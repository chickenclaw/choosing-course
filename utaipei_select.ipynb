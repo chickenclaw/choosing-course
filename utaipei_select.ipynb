{
 "cells": [
  {
   "cell_type": "code",
   "execution_count": 1,
   "id": "0b1487f5",
   "metadata": {},
   "outputs": [],
   "source": [
    "import requests"
   ]
  },
  {
   "cell_type": "code",
   "execution_count": 2,
   "id": "5732f8b6",
   "metadata": {},
   "outputs": [
    {
     "data": {
      "text/plain": [
       "'JSESSIONID=AAAitwoj0pLt51h53hEk0Q;Path=/utaipei, SKIcpCfxhUjHBw__=v1qcppWw__1OW; Path=/'"
      ]
     },
     "execution_count": 2,
     "metadata": {},
     "output_type": "execute_result"
    }
   ],
   "source": [
    "account = 'U11010013'\n",
    "password = '****'\n",
    "my_data = {'uid':account,'pwd': password}\n",
    "r1 = requests.post('https://my.utaipei.edu.tw/utaipei/login_check.jsp', data = my_data)\n",
    "cookie = r1.headers['Set-Cookie']\n",
    "cookie"
   ]
  },
  {
   "cell_type": "markdown",
   "id": "945a5da6",
   "metadata": {},
   "source": [
    "## 確認有無登入成功"
   ]
  },
  {
   "cell_type": "code",
   "execution_count": 3,
   "id": "5b320dea",
   "metadata": {},
   "outputs": [
    {
     "data": {
      "text/plain": [
       "'方品力 (U11010013)</span></font>\\'</script><div id=\"m_tree\" name=\"m_tree\" style=\"width:240px;overflow:scroll;overflow-X:hidden;\"><table cellspacing=0 cellpadding=0 border=0><tr><td valign=top style=\"width'"
      ]
     },
     "execution_count": 3,
     "metadata": {},
     "output_type": "execute_result"
    }
   ],
   "source": [
    "heads = { \n",
    "    # 'cookie' : 'JSESSIONID=AACSodFYKvy2NzORZv4IQg; TS0159c96f=010e65ea4022c54be85a77c988837df80de8ae1a50cea4c512de7f12bc3225d57be7fa21f27881cee149399ad21c413b211b5c1181d262d5874c9df7592bdeb145ab7a7bafb59bef0f0f12f27ecb2e62fa68d1b445; ip2-srv_80=FIBIEHNC; TS0192b190=010e65ea40be63031f851118c2801c497f9fcbc867f8b764603e25366903b0289443cc8107d2f0624f02c1ee3d433c6388dd72dfa13018114fa383d7a8cbd4db84d7f178ee',\n",
    "    'cookie' : cookie,\n",
    "    'User-Agent' : 'Mozilla/5.0 (Macintosh; Intel Mac OS X 10_15_7) AppleWebKit/537.36 (KHTML, like Gecko) Chrome/94.0.4606.81 Safari/537.36',\n",
    "    'Accept-Language' : 'zh-TW,zh;q=0.9,en-US;q=0.8,en;q=0.7',\n",
    "    'Referer' : 'https://my.utaipei.edu.tw/utaipei/login_check.jsp',\n",
    "    'Origin' : 'https://my.utaipei.edu.tw',\n",
    "    'Host' : '210.71.24.124',\n",
    "    'Content-Type' : 'application/x-www-form-urlencoded',\n",
    "    'Accept' : 'text/html,application/xhtml+xml,application/xml;q=0.9,image/avif,image/webp,image/apng,*/*;q=0.8,application/signed-exchange;v=b3;q=0.9',\n",
    "}\n",
    "confirm_data = {\n",
    "    'uid' : account,\n",
    "    'check_choice' : '',\n",
    "    'teach_roll' : '',\n",
    "    'dorm_room' : '',\n",
    "    'std_vote' : '',\n",
    "    'err':'N',\n",
    "    'hid_type' : 'S',\n",
    "}\n",
    "confirm = requests.post(' https://my.utaipei.edu.tw/utaipei/perchk.jsp', headers = heads, data=confirm_data)\n",
    "name_location = confirm.text.find('方品力')\n",
    "confirm.text[name_location: name_location+200]"
   ]
  },
  {
   "cell_type": "code",
   "execution_count": 4,
   "id": "bf5ede25",
   "metadata": {},
   "outputs": [],
   "source": [
    "def get_random_form(cookie):\n",
    "    head = {\n",
    "        'Accept': '*/*',\n",
    "        'Accept-Encoding': 'gzip, deflate',\n",
    "        'Accept-Language': 'zh-TW,zh;q=0.9',\n",
    "        'Connection': 'keep-alive',\n",
    "        'Content-Length': '0',\n",
    "        'Cookie': cookie,\n",
    "        'Host': 'my.utaipei.edu.tw',\n",
    "        'Origin': 'https://my.utaipei.edu.tw',\n",
    "        'Referer': 'https://my.utaipei.edu.tw/utaipei/choice/adq_00.jsp?',\n",
    "        'User-Agent': 'Mozilla/5.0 (Macintosh; Intel Mac OS X 10_15_7) AppleWebKit/537.36 (KHTML, like Gecko) Chrome/94.0.4606.81 Safari/537.36',\n",
    "        'X-Requested-With': 'XMLHttpRequest',\n",
    "    }\n",
    "    random_code = requests.post(f'https://my.utaipei.edu.tw/utaipei/choice/adq_d01.jsp?uid={account}&', headers=head)\n",
    "    random_form_location = random_code.text.find('document.getElementById(\"random_form\").value = ')\n",
    "    random_form = random_code.text[random_form_location+47:random_form_location+81].strip('\\\"')\n",
    "    return random_form"
   ]
  },
  {
   "cell_type": "code",
   "execution_count": 5,
   "id": "b484990d",
   "metadata": {},
   "outputs": [],
   "source": [
    "def choose_code(cookie, course_code):\n",
    "    random_form = get_random_form(cookie)\n",
    "    head = {\n",
    "        'Accept': 'text/html,application/xhtml+xml,application/xml;q=0.9,image/avif,image/webp,image/apng,*/*;q=0.8,application/signed-exchange;v=b3;q=0.9',\n",
    "        'Accept-Encoding': 'gzip, deflate',\n",
    "        'Accept-Language': 'zh-TW,zh;q=0.9',\n",
    "        'Cache-Control': 'max-age=0',\n",
    "        'Connection': 'keep-alive',\n",
    "        'Content-Type': 'application/x-www-form-urlencoded',\n",
    "        'Cookie': cookie,\n",
    "        'Host': 'my.utaipei.edu.tw',\n",
    "        'Origin': 'https://my.utaipei.edu.tw',\n",
    "        'Referer': 'https://my.utaipei.edu.tw/utaipei/choice/adq_00.jsp?',\n",
    "        'Upgrade-Insecure-Requests': '1',\n",
    "        'User-Agent': 'Mozilla/5.0 (Macintosh; Intel Mac OS X 10_15_7) AppleWebKit/537.36 (KHTML, like Gecko) Chrome/94.0.4606.81 Safari/537.36',\n",
    "    }\n",
    "    course_data = {\n",
    "        'ls_selcode_a': course_code ,\n",
    "        'random_form': random_form,\n",
    "    #     'random_form': '3ijfio3qfm',\n",
    "    }\n",
    "    select = requests.post('https://my.utaipei.edu.tw/utaipei/choice/adq_ains2.jsp' , headers = head , data = course_data)\n",
    "    return select"
   ]
  },
  {
   "cell_type": "code",
   "execution_count": 6,
   "id": "955b433b",
   "metadata": {},
   "outputs": [
    {
     "name": "stdout",
     "output_type": "stream",
     "text": [
      "失敗\n"
     ]
    },
    {
     "data": {
      "text/plain": [
       "'\\ufeff\\r\\n\\r\\n\\r\\n<!DOCTYPE html>\\r\\n<html>\\r\\n<head>\\r\\n<title></title>\\r\\n<meta http-equiv=\"pragma\" content=\"no-cache\">\\r\\n<meta http-equiv=\"cache-control\" content=\"no-cache\">\\r\\n<meta http-equiv=\"content-type\" content=\"text/html;charset=UTF-8\">\\r\\n<link REL=\"stylesheet\" href=\"../style/main.css?1704798429370\">\\r\\n<script src=\"../style/jquery3.4.1.min.js\"></script>\\r\\n</head>\\r\\n<body>\\r\\n<script>alert(\\'驗證失敗，請由首頁登入！\\');top.location.href=\\'../index.html\\';</script>\\r\\n</BODY>\\r\\n</HTML>'"
      ]
     },
     "execution_count": 6,
     "metadata": {},
     "output_type": "execute_result"
    }
   ],
   "source": [
    "select = choose_code(cookie, \"2207\")\n",
    "if select.text.find('加選成功') != -1:\n",
    "    print('成功')\n",
    "else:\n",
    "    print('失敗')\n",
    "select.text"
   ]
  },
  {
   "cell_type": "code",
   "execution_count": 8,
   "id": "ca6e42b6",
   "metadata": {},
   "outputs": [
    {
     "name": "stdout",
     "output_type": "stream",
     "text": [
      "2144 失敗\n"
     ]
    }
   ],
   "source": [
    "course_codes = [\"2144\"]\n",
    "for code in course_codes:\n",
    "    select = choose_code(cookie, code)\n",
    "    if select.text.find('加選成功') != -1:\n",
    "        print(f'{code} 成功')\n",
    "    else:\n",
    "        print(f'{code} 失敗')\n"
   ]
  },
  {
   "cell_type": "code",
   "execution_count": null,
   "metadata": {},
   "outputs": [],
   "source": []
  }
 ],
 "metadata": {
  "interpreter": {
   "hash": "6bce8476c94de9b5e918d1466a2660940309ee4d31e7bed889da2edde1283ea4"
  },
  "kernelspec": {
   "display_name": "Python 3.9.7 64-bit ('base': conda)",
   "name": "python3"
  },
  "language_info": {
   "codemirror_mode": {
    "name": "ipython",
    "version": 3
   },
   "file_extension": ".py",
   "mimetype": "text/x-python",
   "name": "python",
   "nbconvert_exporter": "python",
   "pygments_lexer": "ipython3",
   "version": "3.9.7"
  }
 },
 "nbformat": 4,
 "nbformat_minor": 5
}
